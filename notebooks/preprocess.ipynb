{
 "cells": [
  {
   "cell_type": "code",
   "execution_count": 1,
   "metadata": {},
   "outputs": [],
   "source": [
    "import re\n",
    "import html"
   ]
  },
  {
   "cell_type": "code",
   "execution_count": 2,
   "metadata": {},
   "outputs": [],
   "source": [
    "lines = [html.unescape(line.rstrip('\\n')) for line in open('./data/raw')]"
   ]
  },
  {
   "cell_type": "code",
   "execution_count": 3,
   "metadata": {},
   "outputs": [],
   "source": [
    "# remove 'www.' for uniformity\n",
    "_re1 = re.compile(r'www.', re.UNICODE)\n",
    "\n",
    "# replace complicated urls with homepage\n",
    "_re2 = re.compile(r'(http|ftp|https)://([\\w_-]+(?:(?:\\.[\\w_-]+)+))([\\w.,@?^=%&:/~+#-]*[\\w@?^=%&/~+#-])?', re.UNICODE)\n",
    "\n",
    "for idx, line in enumerate(lines):\n",
    "    line = _re1.sub('', line)\n",
    "    url = _re2.findall(line)\n",
    "    if url:\n",
    "        lines[idx] = _re2.sub(url[0][1], line)"
   ]
  },
  {
   "cell_type": "code",
   "execution_count": 4,
   "metadata": {},
   "outputs": [],
   "source": [
    "# handle smileys\n",
    "_re1 = re.compile(r'(:-?\\(|:-?\\)|:-?\\\\|:-?D)', re.UNICODE)\n",
    "\n",
    "for idx, line in enumerate(lines):\n",
    "    # simply sub them\n",
    "    lines[idx] = _re1.sub(' ', line)\n",
    "    # alternatively pad them\n",
    "    # '</e>'.join(_re1.split(line))"
   ]
  },
  {
   "cell_type": "code",
   "execution_count": 5,
   "metadata": {},
   "outputs": [],
   "source": [
    "# handle . / and , characters \n",
    "# (behave differently for numbers are characters)\n",
    "_re1 = re.compile(r'(?<=[A-z])[\\.\\/\\,]', re.UNICODE)\n",
    "\n",
    "# replace numbers with #\n",
    "_re2 = re.compile(r'[0-9]+', re.UNICODE)\n",
    "\n",
    "# handle double occurences of #\n",
    "_re3 = re.compile(r'#[#]+', re.UNICODE)\n",
    "\n",
    "for idx, line in enumerate(lines):\n",
    "    line = _re1.sub(' ', line)\n",
    "    line = _re2.sub('#', line)\n",
    "    lines[idx] = _re3.sub('#', line)"
   ]
  },
  {
   "cell_type": "code",
   "execution_count": null,
   "metadata": {},
   "outputs": [],
   "source": [
    "# remove special characters\n",
    "_re1 = re.compile(r'[\\!\\?\\^\\*\\(\\)\\[\\]\\{\\}\\;\\:\\<\\>\\~\\_\\\\]', re.UNICODE)\n",
    "\n",
    "# remove multiple (long) dashes\n",
    "_re2 = re.compile(r'.[.]+', re.UNICODE)\n",
    "\n",
    "# remove multiple (long) dashes\n",
    "_re3 = re.compile(r'-[-]+', re.UNICODE)\n",
    "\n",
    "# remove space padded hyphens\n",
    "_re4 = re.compile(r'\\s-\\s', re.UNICODE)\n",
    "\n",
    "# replace & with 'and'\n",
    "_re5 = re.compile(r'&', re.UNICODE)\n",
    "\n",
    "# replace w/ with 'with'\n",
    "_re6 = re.compile(r'w\\/', re.UNICODE)\n",
    "\n",
    "for idx, line in enumerate(lines):\n",
    "    line = _re1.sub(' ', line)\n",
    "    line = _re2.sub(' ', line)\n",
    "    line = _re3.sub(' ', line)\n",
    "    line = _re4.sub(' ', line)\n",
    "    line = _re5.sub(' and ', line)\n",
    "    lines[idx] = _re6.sub(' with ', line)"
   ]
  },
  {
   "cell_type": "code",
   "execution_count": null,
   "metadata": {},
   "outputs": [],
   "source": [
    "# drop backslashes\n",
    "_re1 = re.compile(r'\\\\', re.UNICODE)\n",
    "\n",
    "for idx, line in enumerate(lines):\n",
    "    lines[idx] = _re1.sub('', line)"
   ]
  },
  {
   "cell_type": "code",
   "execution_count": null,
   "metadata": {},
   "outputs": [],
   "source": [
    "# pad quotes (non-apostrophe) with space\n",
    "_re1 = re.compile(r\"(?<![a-z])[\\']\", re.UNICODE)\n",
    "_re2 = re.compile(r\"[\\'](?![a-z])\", re.UNICODE)\n",
    "_re3 = re.compile(r'\\\"', re.UNICODE)\n",
    "\n",
    "for idx, line in enumerate(lines):\n",
    "    line = _re1.sub(' ', line)\n",
    "    line = _re2.sub(' ', line)\n",
    "    lines[idx] = _re3.sub(' \" ', line)"
   ]
  },
  {
   "cell_type": "code",
   "execution_count": null,
   "metadata": {},
   "outputs": [],
   "source": [
    "# omit double+ occurences (spaces etc.)\n",
    "_re1 = re.compile(r'\\s[\\s]+', re.UNICODE)\n",
    "\n",
    "for idx, line in enumerate(lines):\n",
    "    lines[idx] = _re1.sub(' ', line)"
   ]
  },
  {
   "cell_type": "code",
   "execution_count": null,
   "metadata": {},
   "outputs": [],
   "source": [
    "# lower case everything\n",
    "lines = [line.lower() for line in lines]"
   ]
  },
  {
   "cell_type": "code",
   "execution_count": null,
   "metadata": {},
   "outputs": [],
   "source": [
    "# join with </s>\n",
    "lines = ' </s> '.join(lines)"
   ]
  },
  {
   "cell_type": "code",
   "execution_count": null,
   "metadata": {},
   "outputs": [],
   "source": [
    "with open('./data/text', 'w') as f:\n",
    "    f.write(lines)"
   ]
  },
  {
   "cell_type": "code",
   "execution_count": null,
   "metadata": {},
   "outputs": [],
   "source": [
    "lines.decode('utf-8')"
   ]
  }
 ],
 "metadata": {
  "kernelspec": {
   "display_name": "Python 3",
   "language": "python",
   "name": "python3"
  },
  "language_info": {
   "codemirror_mode": {
    "name": "ipython",
    "version": 3
   },
   "file_extension": ".py",
   "mimetype": "text/x-python",
   "name": "python",
   "nbconvert_exporter": "python",
   "pygments_lexer": "ipython3",
   "version": "3.6.1"
  }
 },
 "nbformat": 4,
 "nbformat_minor": 2
}
